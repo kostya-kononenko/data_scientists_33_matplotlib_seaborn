{
 "cells": [
  {
   "cell_type": "code",
   "execution_count": 91,
   "metadata": {
    "ExecuteTime": {
     "start_time": "2023-04-13T17:26:46.897284Z",
     "end_time": "2023-04-13T17:26:46.999625Z"
    }
   },
   "outputs": [],
   "source": [
    "import matplotlib.pyplot as plt\n",
    "import matplotlib.colors as mcolors\n",
    "import pandas as pd\n",
    "import numpy as np\n",
    "import seaborn as sns"
   ]
  },
  {
   "cell_type": "code",
   "execution_count": 92,
   "metadata": {
    "ExecuteTime": {
     "start_time": "2023-04-13T17:26:46.898703Z",
     "end_time": "2023-04-13T17:26:47.087297Z"
    }
   },
   "outputs": [],
   "source": [
    "df_auto=pd.read_excel('auto_data.xlsx')\n",
    "df_auto.head()"
   ]
  },
  {
   "cell_type": "code",
   "execution_count": 93,
   "metadata": {
    "ExecuteTime": {
     "start_time": "2023-04-13T17:26:46.898849Z",
     "end_time": "2023-04-13T17:26:47.847807Z"
    }
   },
   "outputs": [],
   "source": [
    "fig, ax = plt.subplots()\n",
    "plt.plot(df_auto[\"average_fuel_consumption\"], df_auto[\"price\"], \"r--o\")\n",
    "ax.set_title(\"Depend fuel consumption on the cost of the car\")\n",
    "ax.set_ylabel(\"Price, USD\")\n",
    "ax.set_xlabel(\"Average fuel consumption\")"
   ]
  },
  {
   "cell_type": "code",
   "execution_count": 94,
   "metadata": {
    "ExecuteTime": {
     "start_time": "2023-04-13T17:26:46.898947Z",
     "end_time": "2023-04-13T17:26:48.767588Z"
    }
   },
   "outputs": [],
   "source": [
    "fig, ax = plt.subplots()\n",
    "plt.scatter(df_auto[\"average_fuel_consumption\"], df_auto[\"maximum_speed\"], s=50, linewidths=1, marker='s')\n",
    "ax.set_title(\"Depend fuel consumption on the max speed of the car\")\n",
    "ax.set_ylabel(\"Max speed km/h\")\n",
    "ax.set_xlabel(\"Average fuel consumption\")"
   ]
  },
  {
   "cell_type": "code",
   "execution_count": 95,
   "metadata": {
    "ExecuteTime": {
     "start_time": "2023-04-13T17:26:46.899032Z",
     "end_time": "2023-04-13T17:26:49.570394Z"
    }
   },
   "outputs": [],
   "source": [
    "fig, ax = plt.subplots()\n",
    "bc = mcolors.BASE_COLORS\n",
    "num_set = np.random.randint(1, len(mcolors.BASE_COLORS), len(df_auto[\"load_capacity\"]))\n",
    "colors = [list(bc.keys())[i] for i in num_set]\n",
    "plt.scatter(df_auto[\"load_capacity\"], df_auto[\"maximum_speed\"], s=num_set * 35, c=colors, linewidths=2, edgecolors='face')\n",
    "ax.set_title(\"Depend load capacity on the max speed of the car\")\n",
    "ax.set_ylabel(\"Max speed, km/h\")\n",
    "ax.set_xlabel(\"Load capacity\")"
   ]
  },
  {
   "cell_type": "code",
   "execution_count": 96,
   "outputs": [],
   "source": [
    "fig, ax = plt.subplots()\n",
    "plt.hist(df_auto['maximum_speed'], 5, color = 'blue', width=20)\n",
    "ax.set_title(\"Division of cars into 5 groups by speed\")\n",
    "ax.set_xlabel(\"Max speed, km/h\")\n",
    "ax.set_ylabel(\"Number of cars\")"
   ],
   "metadata": {
    "collapsed": false,
    "ExecuteTime": {
     "start_time": "2023-04-13T17:26:46.899116Z",
     "end_time": "2023-04-13T17:26:50.300698Z"
    }
   }
  },
  {
   "cell_type": "code",
   "execution_count": 97,
   "outputs": [],
   "source": [
    "sns.set(rc={'figure.figsize':(20.0, 8.0)})\n",
    "sns.boxplot(x=df_auto[\"maximum_speed\"], y=df_auto[\"type\"])"
   ],
   "metadata": {
    "collapsed": false,
    "ExecuteTime": {
     "start_time": "2023-04-13T17:26:46.899198Z",
     "end_time": "2023-04-13T17:26:50.904067Z"
    }
   }
  },
  {
   "cell_type": "code",
   "execution_count": 98,
   "outputs": [],
   "source": [
    "sns.pairplot(df_auto)"
   ],
   "metadata": {
    "collapsed": false,
    "ExecuteTime": {
     "start_time": "2023-04-13T17:26:46.899331Z",
     "end_time": "2023-04-13T17:26:56.936482Z"
    }
   }
  }
 ],
 "metadata": {
  "kernelspec": {
   "display_name": "Python 3 (ipykernel)",
   "language": "python",
   "name": "python3"
  },
  "language_info": {
   "codemirror_mode": {
    "name": "ipython",
    "version": 3
   },
   "file_extension": ".py",
   "mimetype": "text/x-python",
   "name": "python",
   "nbconvert_exporter": "python",
   "pygments_lexer": "ipython3",
   "version": "3.10.6"
  }
 },
 "nbformat": 4,
 "nbformat_minor": 1
}
